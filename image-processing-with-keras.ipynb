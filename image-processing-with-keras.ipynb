{
 "cells": [
  {
   "cell_type": "markdown",
   "id": "5926effd",
   "metadata": {},
   "source": [
    "# Image Processing with Keras in Python\n",
    "\n",
    "## Images as data: visualizations\n",
    "\n",
    "To display image data, you will rely on Python's Matplotlib library, and specifically use matplotlib's pyplot sub-module, that contains many plotting commands. Some of these commands allow you to display the content of images stored in arrays."
   ]
  },
  {
   "cell_type": "code",
   "execution_count": null,
   "id": "52ab473e",
   "metadata": {},
   "outputs": [],
   "source": [
    "# Import matplotlib\n",
    "import matplotlib.pyplot as plt\n",
    "\n",
    "# Load the image\n",
    "data = plt.imread('bricks.png')\n",
    "\n",
    "# Display the image\n",
    "plt.imshow(data)\n",
    "plt.show()"
   ]
  },
  {
   "cell_type": "markdown",
   "id": "72e2a082",
   "metadata": {},
   "source": [
    "## Images as data: changing images\n",
    "\n",
    "To modify an image, you can modify the existing numbers in the array. In a color image, you can change the values in one of the color channels without affecting the other colors, by indexing on the last dimension of the array.\n",
    "\n",
    "The image you imported in the previous exercise is available in data."
   ]
  },
  {
   "cell_type": "code",
   "execution_count": null,
   "id": "af88fc54",
   "metadata": {},
   "outputs": [],
   "source": [
    "# Set the red channel in this part of the image to 1\n",
    "data[:10, :10, 0] = 1\n",
    "\n",
    "# Set the green channel in this part of the image to 0\n",
    "data[:10, :10, 1] = 0\n",
    "\n",
    "# Set the blue channel in this part of the image to 0\n",
    "data[:10, :10, 2] = 0\n",
    "\n",
    "# Visualize the result\n",
    "plt.imshow(data)\n",
    "plt.show()"
   ]
  },
  {
   "cell_type": "markdown",
   "id": "1988f9a4",
   "metadata": {},
   "source": [
    "## Using one-hot encoding to represent images\n",
    "\n",
    "Neural networks expect the labels of classes in a dataset to be organized in a one-hot encoded manner: each row in the array contains zeros in all columns, except the column corresponding to a unique label, which is set to 1.\n",
    "\n",
    "The fashion dataset contains three categories:\n",
    "\n",
    "1. Shirts\n",
    "2. Dresses\n",
    "3. Shoes\n",
    "\n",
    "In this exercise, you will create a one-hot encoding of a small sample of these labels."
   ]
  },
  {
   "cell_type": "code",
   "execution_count": null,
   "id": "6102c8d0",
   "metadata": {},
   "outputs": [],
   "source": [
    "# The number of image categories\n",
    "n_categories = 3\n",
    "\n",
    "# The unique values of categories in the data\n",
    "categories = np.array([\"shirt\", \"dress\", \"shoe\"])\n",
    "\n",
    "# Initialize ohe_labels as all zeros\n",
    "ohe_labels = np.zeros((len(labels), n_categories))\n",
    "\n",
    "# Loop over the labels\n",
    "for ii in range(len(labels)):\n",
    "    # Find the location of this label in the categories variable\n",
    "    jj = np.where(categories == labels[ii])\n",
    "    # Set the corresponding zero to one\n",
    "    ohe_labels[ii, jj] = 1"
   ]
  },
  {
   "cell_type": "markdown",
   "id": "74a76cdf",
   "metadata": {},
   "source": [
    "## Evaluating a classifier\n",
    "\n",
    "To evaluate a classifier, we need to test it on images that were not used during training. This is called \"cross-validation\": a prediction of the class (e.g., t-shirt, dress or shoe) is made from each of the test images, and these predictions are compared with the true labels of these images.\n",
    "\n",
    "The results of cross-validation are provided as one-hot encoded arrays: test_labels and predictions."
   ]
  },
  {
   "cell_type": "code",
   "execution_count": null,
   "id": "c355a7db",
   "metadata": {},
   "outputs": [],
   "source": [
    "# Calculate the number of correct predictions\n",
    "number_correct = (test_labels * predictions).sum()\n",
    "print(number_correct)\n",
    "\n",
    "# Calculate the proportion of correct predictions\n",
    "proportion_correct = number_correct/len(predictions)\n",
    "print(proportion_correct)"
   ]
  },
  {
   "cell_type": "markdown",
   "id": "4a58f079",
   "metadata": {},
   "source": [
    "## Build a neural network\n",
    "\n",
    "We will use the Keras library to create neural networks and to train these neural networks to classify images. These models will all be of the Sequential type, meaning that the outputs of one layer are provided as inputs only to the next layer.\n",
    "\n",
    "In this exercise, you will create a neural network with Dense layers, meaning that each unit in each layer is connected to all of the units in the previous layer. For example, each unit in the first layer is connected to all of the pixels in the input images. The Dense layer object receives as arguments the number of units in that layer, and the activation function for the units. For the first layer in the network, it also receives an input_shape keyword argument."
   ]
  },
  {
   "cell_type": "code",
   "execution_count": null,
   "id": "06781d2a",
   "metadata": {},
   "outputs": [],
   "source": [
    "# Imports components from Keras\n",
    "from keras.models import Sequential\n",
    "from keras.layers import Dense\n",
    "\n",
    "# Initializes a sequential model\n",
    "model = Sequential()\n",
    "\n",
    "# First layer\n",
    "model.add(Dense(10, activation='relu', input_shape=(784,)))\n",
    "\n",
    "# Second layer\n",
    "model.add(Dense(10, activation='relu'))\n",
    "\n",
    "# Output layer\n",
    "model.add(Dense(3, activation='softmax'))"
   ]
  },
  {
   "cell_type": "markdown",
   "id": "86585bc8",
   "metadata": {},
   "source": [
    "## Compile a neural network\n",
    "\n",
    "Once you have constructed a model in Keras, the model needs to be compiled before you can fit it to data. This means that you need to specify the optimizer that will be used to fit the model and the loss function that will be used in optimization. Optionally, you can also specify a list of metrics that the model will keep track of. For example, if you want to know the classification accuracy, you will provide the list ['accuracy'] to the metrics keyword argument."
   ]
  },
  {
   "cell_type": "code",
   "execution_count": null,
   "id": "6b53f098",
   "metadata": {},
   "outputs": [],
   "source": [
    "# Compile the model\n",
    "model.compile(optimizer='adam', \n",
    "           loss='categorical_crossentropy', \n",
    "           metrics=['accuracy'])"
   ]
  },
  {
   "cell_type": "markdown",
   "id": "e867c0cb",
   "metadata": {},
   "source": [
    "## Fitting a neural network model to clothing data\n",
    "\n",
    "In this exercise, you will fit the fully connected neural network that you constructed in the previous exercise to image data. The training data is provided as two variables: train_data that contains the pixel data for 50 images of the three clothing classes and train_labels, which contains one-hot encoded representations of the labels for each one of these 50 images. Transform the data into the network's expected input and then fit the model on training data and training labels.\n",
    "\n",
    "The model you compiled in the previous exercise, and train_data and train_labels are available in your workspace."
   ]
  },
  {
   "cell_type": "code",
   "execution_count": null,
   "id": "8da62040",
   "metadata": {},
   "outputs": [],
   "source": [
    "# Reshape the data to two-dimensional array\n",
    "train_data = train_data.reshape(50, 784)\n",
    "\n",
    "# Fit the model\n",
    "model.fit(train_data, train_labels, validation_split=0.2, epochs=3)"
   ]
  },
  {
   "cell_type": "markdown",
   "id": "df9a41f9",
   "metadata": {},
   "source": [
    "## Cross-validation for neural network evaluation\n",
    "\n",
    "To evaluate the model, we use a separate test data-set. As in the train data, the images in the test data also need to be reshaped before they can be provided to the fully-connected network because the network expects one column per pixel in the input.\n",
    "\n",
    "The model you fit in the previous exercise, and test_data and test_labels are available in your workspace."
   ]
  },
  {
   "cell_type": "code",
   "execution_count": null,
   "id": "ac65975b",
   "metadata": {},
   "outputs": [],
   "source": [
    "# Reshape test data\n",
    "test_data = test_data.reshape(10, 784)\n",
    "\n",
    "# Evaluate the model\n",
    "model.evaluate(test_data, test_labels)"
   ]
  },
  {
   "cell_type": "markdown",
   "id": "8a757024",
   "metadata": {},
   "source": [
    "## One dimensional convolutions\n",
    "\n",
    "A convolution of an one-dimensional array with a kernel comprises of taking the kernel, sliding it along the array, multiplying it with the items in the array that overlap with the kernel in that location and summing this product."
   ]
  },
  {
   "cell_type": "code",
   "execution_count": null,
   "id": "a560c67e",
   "metadata": {},
   "outputs": [],
   "source": [
    "array = np.array([1, 0, 1, 0, 1, 0, 1, 0, 1, 0])\n",
    "kernel = np.array([1, -1, 0])\n",
    "conv = np.array([0, 0, 0, 0, 0, 0, 0, 0, 0, 0])\n",
    "\n",
    "# Output array\n",
    "for ii in range(8):\n",
    "    conv[ii] = (kernel * array[ii:ii+3]).sum()\n",
    "\n",
    "# Print conv\n",
    "print(conv)"
   ]
  },
  {
   "cell_type": "markdown",
   "id": "c4ee7a18",
   "metadata": {},
   "source": [
    "## Image convolutions\n",
    "\n",
    "The convolution of an image with a kernel summarizes a part of the image as the sum of the multiplication of that part of the image with the kernel. In this exercise, you will write the code that executes a convolution of an image with a kernel using Numpy. Given a black and white image that is stored in the variable im, write the operations inside the loop that would execute the convolution with the provided kernel."
   ]
  },
  {
   "cell_type": "code",
   "execution_count": null,
   "id": "f01946b9",
   "metadata": {},
   "outputs": [],
   "source": [
    "kernel = np.array([[0, 1, 0], [1, 1, 1], [0, 1, 0]])\n",
    "result = np.zeros(im.shape)\n",
    "\n",
    "# Output array\n",
    "for ii in range(im.shape[0] - 3):\n",
    "    for jj in range(im.shape[1] - 3):\n",
    "        result[ii, jj] = (im[ii:ii+3, jj:jj+3] * kernel).sum()\n",
    "\n",
    "# Print result\n",
    "print(result)"
   ]
  },
  {
   "cell_type": "markdown",
   "id": "ad800d37",
   "metadata": {},
   "source": [
    "## Defining image convolution kernels\n",
    "\n",
    "In the previous exercise, you wrote code that performs a convolution given an image and a kernel. This code is now stored in a function called convolution() that takes two inputs: image and kernel and produces the convolved image. In this exercise, you will be asked to define the kernel that finds a particular feature in the image.\n",
    "\n",
    "For example, the following kernel finds a vertical line in images:\n",
    "\n",
    "```\n",
    "np.array([[-1, 1, -1], \n",
    "          [-1, 1, -1],\n",
    "          [-1, 1, -1]])\n",
    "```\n",
    "Define a kernel that finds horizontal lines in images."
   ]
  },
  {
   "cell_type": "code",
   "execution_count": null,
   "id": "6c16e52c",
   "metadata": {},
   "outputs": [],
   "source": [
    "kernel = np.array([[-1, -1, -1], \n",
    "                   [1, 1, 1],\n",
    "                   [-1, -1, -1]])"
   ]
  },
  {
   "cell_type": "markdown",
   "id": "05ebdf5b",
   "metadata": {},
   "source": [
    "Define a kernel that finds a light spot surrounded by dark pixels."
   ]
  },
  {
   "cell_type": "code",
   "execution_count": null,
   "id": "94e981e5",
   "metadata": {},
   "outputs": [],
   "source": [
    "kernel = np.array([[-1, -1, -1], \n",
    "                   [-1, 1, -1],\n",
    "                   [-1, -1, -1]])"
   ]
  },
  {
   "cell_type": "markdown",
   "id": "b2d5a39b",
   "metadata": {},
   "source": [
    "Define a kernel that finds a dark spot surrounded by bright pixels."
   ]
  },
  {
   "cell_type": "code",
   "execution_count": null,
   "id": "d379c188",
   "metadata": {},
   "outputs": [],
   "source": [
    "kernel = np.array([[1, 1, 1], \n",
    "                   [1, -1, 1],\n",
    "                   [1, 1, 1]])"
   ]
  },
  {
   "cell_type": "markdown",
   "id": "40e1e1b7",
   "metadata": {},
   "source": [
    "## Convolutional network for image classification\n",
    "\n",
    "Convolutional networks for classification are constructed from a sequence of convolutional layers (for image processing) and fully connected (Dense) layers (for readout). In this exercise, you will construct a small convolutional network for classification of the data from the fashion dataset."
   ]
  },
  {
   "cell_type": "code",
   "execution_count": null,
   "id": "e1fbb0fb",
   "metadata": {},
   "outputs": [],
   "source": [
    "# Import the necessary components from Keras\n",
    "from keras.models import Sequential\n",
    "from keras.layers import Dense, Conv2D, Flatten\n",
    "\n",
    "# Initialize the model object\n",
    "model = Sequential()\n",
    "\n",
    "# Add a convolutional layer\n",
    "model.add(Conv2D(10, kernel_size=3, activation='relu', \n",
    "               input_shape=(img_rows, img_cols, 1)))\n",
    "\n",
    "# Flatten the output of the convolutional layer\n",
    "model.add(Flatten())\n",
    "# Add an output layer for the 3 categories\n",
    "model.add(Dense(3, activation='softmax'))"
   ]
  },
  {
   "cell_type": "markdown",
   "id": "bf4b1ac1",
   "metadata": {},
   "source": [
    "## Training a CNN to classify clothing types\n",
    "\n",
    "Before training a neural network it needs to be compiled with the right cost function, using the right optimizer. During compilation, you can also define metrics that the network calculates and reports in every epoch. Model fitting requires a training data set, together with the training labels to the network.\n",
    "\n",
    "The Conv2D model you built in the previous exercise is available in your workspace."
   ]
  },
  {
   "cell_type": "code",
   "execution_count": null,
   "id": "0c07e21a",
   "metadata": {},
   "outputs": [],
   "source": [
    "# Compile the model \n",
    "model.compile(optimizer='adam', \n",
    "              loss='categorical_crossentropy', \n",
    "              metrics=['accuracy'])\n",
    "\n",
    "# Fit the model on a training set\n",
    "model.fit(train_data, train_labels, \n",
    "          validation_split=0.2, \n",
    "          epochs=3, batch_size=10)"
   ]
  },
  {
   "cell_type": "markdown",
   "id": "82a36545",
   "metadata": {},
   "source": [
    "## Evaluating a CNN with test data\n",
    "\n",
    "To evaluate a trained neural network, you should provide a separate testing data set of labeled images. The model you fit in the previous exercise is available in your workspace."
   ]
  },
  {
   "cell_type": "code",
   "execution_count": null,
   "id": "fa08bd37",
   "metadata": {},
   "outputs": [],
   "source": [
    "# Evaluate the model on separate test data\n",
    "model.evaluate(test_data, test_labels, batch_size=10)"
   ]
  },
  {
   "cell_type": "markdown",
   "id": "ed0b47e4",
   "metadata": {},
   "source": [
    "## Add padding to a CNN\n",
    "\n",
    "Padding allows a convolutional layer to retain the resolution of the input into this layer. This is done by adding zeros around the edges of the input image, so that the convolution kernel can overlap with the pixels on the edge of the image."
   ]
  },
  {
   "cell_type": "code",
   "execution_count": null,
   "id": "fc7f5b53",
   "metadata": {},
   "outputs": [],
   "source": [
    "# Initialize the model\n",
    "model = Sequential()\n",
    "\n",
    "# Add the convolutional layer\n",
    "model.add(Conv2D(10, kernel_size=3, activation='relu', \n",
    "                 input_shape=(img_rows, img_cols, 1), \n",
    "                 padding='same'))\n",
    "\n",
    "# Feed into output layer\n",
    "model.add(Flatten())\n",
    "model.add(Dense(3, activation='softmax'))"
   ]
  },
  {
   "cell_type": "markdown",
   "id": "15bd794f",
   "metadata": {},
   "source": [
    "## Add strides to a convolutional network\n",
    "\n",
    "The size of the strides of the convolution kernel determines whether the kernel will skip over some of the pixels as it slides along the image. This affects the size of the output because when strides are larger than one, the kernel will be centered on only some of the pixels."
   ]
  },
  {
   "cell_type": "code",
   "execution_count": null,
   "id": "5d005538",
   "metadata": {},
   "outputs": [],
   "source": [
    "# Initialize the model\n",
    "model = Sequential()\n",
    "\n",
    "# Add the convolutional layer\n",
    "model.add(Conv2D(10, kernel_size=3, activation='relu', \n",
    "              input_shape=(img_rows, img_cols, 1), \n",
    "              strides=2))\n",
    "\n",
    "# Feed into output layer\n",
    "model.add(Flatten())\n",
    "model.add(Dense(3, activation='softmax'))"
   ]
  },
  {
   "cell_type": "markdown",
   "id": "cbec27b5",
   "metadata": {},
   "source": [
    "## Calculate the size of convolutional layer output\n",
    "\n",
    "Zero padding and strides affect the size of the output of a convolution.\n",
    "\n",
    "\n",
    "- Calculating the size of the output\n",
    "- O = ((I - K + 2P)/S)+1\n",
    "- I = size of the input\n",
    "- K = size of the kernel\n",
    "- P = size of the zero padding\n",
    "- S = strides\n",
    "\n",
    "\n",
    "What is the size of the output for an input of size 256 by 256, with a kernel of size 4 by 4, padding of 1 and strides of 2?\n",
    "\n",
    "O = (I - K + 2P)/S)+1 = ((256-4+2\\*1)/2)+1 = 128"
   ]
  },
  {
   "cell_type": "markdown",
   "id": "80ffc472",
   "metadata": {},
   "source": [
    "## Creating a deep learning network\n",
    "\n",
    "A deep convolutional neural network is a network that has more than one layer. Each layer in a deep network receives its input from the preceding layer, with the very first layer receiving its input from the images used as training or test data.\n",
    "\n",
    "Here, you will create a network that has two convolutional layers."
   ]
  },
  {
   "cell_type": "code",
   "execution_count": null,
   "id": "3a0e1ef7",
   "metadata": {},
   "outputs": [],
   "source": [
    "from keras.models import Sequential\n",
    "from keras.layers import Dense, Conv2D, Flatten\n",
    "\n",
    "model = Sequential()\n",
    "\n",
    "# Add a convolutional layer (15 units)\n",
    "model.add(Conv2D(15, kernel_size=2, activation='relu', input_shape=(img_rows, img_cols, 1)))\n",
    "\n",
    "\n",
    "# Add another convolutional layer (5 units)\n",
    "model.add(Conv2D(5, kernel_size=2, activation='relu'))\n",
    "\n",
    "# Flatten and feed to output layer\n",
    "model.add(Flatten())\n",
    "model.add(Dense(3, activation='softmax'))"
   ]
  },
  {
   "cell_type": "code",
   "execution_count": null,
   "id": "0cfdcf5a",
   "metadata": {},
   "outputs": [],
   "source": []
  },
  {
   "cell_type": "code",
   "execution_count": null,
   "id": "0b7c6684",
   "metadata": {},
   "outputs": [],
   "source": []
  },
  {
   "cell_type": "code",
   "execution_count": null,
   "id": "465e623e",
   "metadata": {},
   "outputs": [],
   "source": []
  },
  {
   "cell_type": "code",
   "execution_count": null,
   "id": "f7b2220f",
   "metadata": {},
   "outputs": [],
   "source": []
  }
 ],
 "metadata": {
  "kernelspec": {
   "display_name": "Python 3 (ipykernel)",
   "language": "python",
   "name": "python3"
  },
  "language_info": {
   "codemirror_mode": {
    "name": "ipython",
    "version": 3
   },
   "file_extension": ".py",
   "mimetype": "text/x-python",
   "name": "python",
   "nbconvert_exporter": "python",
   "pygments_lexer": "ipython3",
   "version": "3.10.6"
  }
 },
 "nbformat": 4,
 "nbformat_minor": 5
}
